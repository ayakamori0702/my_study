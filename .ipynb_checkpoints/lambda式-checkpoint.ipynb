{
 "cells": [
  {
   "cell_type": "code",
   "execution_count": 1,
   "id": "c24509db-0b81-4fa8-94c9-ac587aef5283",
   "metadata": {},
   "outputs": [],
   "source": [
    "def calc(base,height):\n",
    "    return base*height/2"
   ]
  },
  {
   "cell_type": "code",
   "execution_count": 2,
   "id": "213bae67-16ec-42bd-8c89-27fdba10dd1e",
   "metadata": {},
   "outputs": [
    {
     "data": {
      "text/plain": [
       "25.0"
      ]
     },
     "execution_count": 2,
     "metadata": {},
     "output_type": "execute_result"
    }
   ],
   "source": [
    "calc(5,10)"
   ]
  },
  {
   "cell_type": "markdown",
   "id": "c9436723-13d6-4cfb-a48f-bf515d6c349f",
   "metadata": {},
   "source": [
    "lambda式を使う"
   ]
  },
  {
   "cell_type": "code",
   "execution_count": 4,
   "id": "d42b91cc-ebe2-400d-8773-dabb4b92aeb1",
   "metadata": {},
   "outputs": [
    {
     "data": {
      "text/plain": [
       "25.0"
      ]
     },
     "execution_count": 4,
     "metadata": {},
     "output_type": "execute_result"
    }
   ],
   "source": [
    "(lambda base,height:base*height/2)(5,10)#無名関数"
   ]
  },
  {
   "cell_type": "code",
   "execution_count": 5,
   "id": "ea0bd4d3-686a-4a4b-babb-b79b7b43c058",
   "metadata": {},
   "outputs": [],
   "source": [
    "func = lambda base,height:base*height/2"
   ]
  },
  {
   "cell_type": "code",
   "execution_count": 6,
   "id": "6583a2c5-2861-477b-98eb-c9f34927afa7",
   "metadata": {},
   "outputs": [
    {
     "data": {
      "text/plain": [
       "25.0"
      ]
     },
     "execution_count": 6,
     "metadata": {},
     "output_type": "execute_result"
    }
   ],
   "source": [
    "func(5,10)"
   ]
  },
  {
   "cell_type": "markdown",
   "id": "6ea800e2-f781-4a87-8ec4-cc2e50f7ad0a",
   "metadata": {},
   "source": [
    "**高層関数**\n",
    "リストを大文字にする"
   ]
  },
  {
   "cell_type": "code",
   "execution_count": 7,
   "id": "6b6420e3-5376-4faf-a822-a6c9899b84f3",
   "metadata": {},
   "outputs": [],
   "source": [
    "students=['Imanishi','mori','Saito','YAMADA']"
   ]
  },
  {
   "cell_type": "code",
   "execution_count": 9,
   "id": "394196f1-9849-46b1-a665-21412ec5fdf9",
   "metadata": {},
   "outputs": [
    {
     "data": {
      "text/plain": [
       "['IMANISHI', 'MORI', 'SAITO', 'YAMADA']"
      ]
     },
     "execution_count": 9,
     "metadata": {},
     "output_type": "execute_result"
    }
   ],
   "source": [
    "#for文\n",
    "new_students = []\n",
    "for student in students:\n",
    "    new_students.append(student.upper())\n",
    "    \n",
    "new_students"
   ]
  },
  {
   "cell_type": "code",
   "execution_count": 10,
   "id": "2662a71f-965f-478f-b00b-676f7116f25e",
   "metadata": {},
   "outputs": [
    {
     "data": {
      "text/plain": [
       "['IMANISHI', 'MORI', 'SAITO', 'YAMADA']"
      ]
     },
     "execution_count": 10,
     "metadata": {},
     "output_type": "execute_result"
    }
   ],
   "source": [
    "[student.upper() for student in students]"
   ]
  },
  {
   "cell_type": "code",
   "execution_count": 11,
   "id": "48c8d0bc-aa60-458f-9af8-76fa26ddcf56",
   "metadata": {},
   "outputs": [
    {
     "data": {
      "text/plain": [
       "['IMANISHI', 'MORI', 'SAITO', 'YAMADA']"
      ]
     },
     "execution_count": 11,
     "metadata": {},
     "output_type": "execute_result"
    }
   ],
   "source": [
    "list(map(lambda student:student.upper(),students))"
   ]
  },
  {
   "cell_type": "code",
   "execution_count": null,
   "id": "f9c4f0b0-4937-4c83-9eb9-8b6f67242e84",
   "metadata": {},
   "outputs": [],
   "source": []
  }
 ],
 "metadata": {
  "kernelspec": {
   "display_name": "Python 3 (ipykernel)",
   "language": "python",
   "name": "python3"
  },
  "language_info": {
   "codemirror_mode": {
    "name": "ipython",
    "version": 3
   },
   "file_extension": ".py",
   "mimetype": "text/x-python",
   "name": "python",
   "nbconvert_exporter": "python",
   "pygments_lexer": "ipython3",
   "version": "3.9.7"
  }
 },
 "nbformat": 4,
 "nbformat_minor": 5
}
