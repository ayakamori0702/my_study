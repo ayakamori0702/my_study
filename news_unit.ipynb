{
 "cells": [
  {
   "cell_type": "code",
   "execution_count": 17,
   "id": "e9b70024-c1f4-4526-b06d-b42aa550af29",
   "metadata": {},
   "outputs": [],
   "source": [
    "from newspaper import Article"
   ]
  },
  {
   "cell_type": "code",
   "execution_count": 4,
   "id": "5f167578-c7b4-4a06-908c-51efac745112",
   "metadata": {},
   "outputs": [],
   "source": [
    "URL = \"https://jp.reuters.com/article/jefferies-fincl-covid-idJPKBN2J602L\""
   ]
  },
  {
   "cell_type": "code",
   "execution_count": 5,
   "id": "53a94d9d-6cb2-4a1b-83c4-1a3175baef6e",
   "metadata": {},
   "outputs": [],
   "source": [
    "article = Article(URL)"
   ]
  },
  {
   "cell_type": "code",
   "execution_count": 6,
   "id": "9e540a37-67e6-4384-9b25-8b48160aa0a5",
   "metadata": {},
   "outputs": [],
   "source": [
    "article.download()"
   ]
  },
  {
   "cell_type": "code",
   "execution_count": 7,
   "id": "e1ddce37-1801-4b7d-8780-0edd45341cda",
   "metadata": {},
   "outputs": [],
   "source": [
    "article.parse()"
   ]
  },
  {
   "cell_type": "code",
   "execution_count": 8,
   "id": "5e89eac8-b9ff-4359-a82d-683fc4a2894e",
   "metadata": {},
   "outputs": [
    {
     "data": {
      "text/plain": [
       "datetime.datetime(2021, 12, 27, 2, 3, 21, tzinfo=tzutc())"
      ]
     },
     "execution_count": 8,
     "metadata": {},
     "output_type": "execute_result"
    }
   ],
   "source": [
    "article.publish_date"
   ]
  },
  {
   "cell_type": "code",
   "execution_count": 9,
   "id": "72f52ef2-cebe-4f8c-b447-71f26e65866c",
   "metadata": {},
   "outputs": [
    {
     "data": {
      "text/plain": [
       "['Reuters Staff']"
      ]
     },
     "execution_count": 9,
     "metadata": {},
     "output_type": "execute_result"
    }
   ],
   "source": [
    "article.authors"
   ]
  },
  {
   "cell_type": "code",
   "execution_count": 10,
   "id": "8df7d949-a2fd-4367-ae1c-c9d2d8877f1a",
   "metadata": {},
   "outputs": [
    {
     "data": {
      "text/plain": [
       "'［２４日 ロイター］ - 新型コロナウイルスのオミクロン変異株流行による来年の世界経済への打撃はさほど大きくないとの投資家の見方から、世界株ファンドに大量の資金が流入している。\\n\\n１２月２４日、新型コロナウイルスのオミクロン変異株流行による来年の世界経済への打撃はさほど大きくないとの投資家の見方から、世界株ファンドに大量の資金が流入している。ニューヨーク証券取引所で７月撮影（２０２１年 ロイター/Andrew Kelly）\\n\\nリフィニティブのデータによると、２２日までの週に世界株ファンドは３３０億ドルの資金流入。前週の１３１億ドルの資金流出から大幅な流入に転じた。\\n\\n米国株ファンドは２７５億ドルの流入、アジア株ファンドは１８億ドルの流入。一方、欧州株ファンドは１５億ドルの流出だった。\\n\\nこの週は世界的に株価が力強く回復した。好調な企業決算に加え、米モデルナ製新型コロナワクチンのブースター接種（追加接種）がオミクロン株の感染予防効果があるとの臨床試験結果が支援材料となった。\\n\\n世界債券ファンドには５４億ドルが流入。前週の流出から流入に転じた。\\n\\nマネー・マーケット・ファンド（ＭＭＦ）からは３２億ドルが流出し、リスク選好の回復が鮮明になった。\\n\\n商品ファンドでは、貴金属ファンドが５億７８００万ドルの流出超。流出は３週連続となった。\\n\\n新興国市場ファンド２万４０７０本の分析では、債券ファンドが８９００万ドルの流出、株式ファンドは１８億ドルの流出だった。'"
      ]
     },
     "execution_count": 10,
     "metadata": {},
     "output_type": "execute_result"
    }
   ],
   "source": [
    "article.text"
   ]
  },
  {
   "cell_type": "code",
   "execution_count": 11,
   "id": "d486c1bc-2983-467f-8fa0-f761fd7d353c",
   "metadata": {},
   "outputs": [
    {
     "data": {
      "text/plain": [
       "'アングル：世界株ファンドに資金流入、来年に向けリスク選好回復'"
      ]
     },
     "execution_count": 11,
     "metadata": {},
     "output_type": "execute_result"
    }
   ],
   "source": [
    "article.title"
   ]
  },
  {
   "cell_type": "markdown",
   "id": "ec2c86ae-88a0-4363-8137-8349ce348596",
   "metadata": {},
   "source": [
    "自然言語処理による要約の取得"
   ]
  },
  {
   "cell_type": "code",
   "execution_count": 2,
   "id": "51491f07-f25e-4ef9-90a6-881463930cad",
   "metadata": {},
   "outputs": [
    {
     "name": "stderr",
     "output_type": "stream",
     "text": [
      "[nltk_data] Downloading package punkt to C:\\Users\\Mori\n",
      "[nltk_data]     Naoto\\AppData\\Roaming\\nltk_data...\n",
      "[nltk_data]   Unzipping tokenizers\\punkt.zip.\n"
     ]
    },
    {
     "data": {
      "text/plain": [
       "True"
      ]
     },
     "execution_count": 2,
     "metadata": {},
     "output_type": "execute_result"
    }
   ],
   "source": [
    "import nltk\n",
    "nltk.download(\"punkt\")"
   ]
  },
  {
   "cell_type": "code",
   "execution_count": 12,
   "id": "116b6ba2-fb6b-4610-9b84-83a1d64c4793",
   "metadata": {},
   "outputs": [],
   "source": [
    "article.nlp()"
   ]
  },
  {
   "cell_type": "code",
   "execution_count": 13,
   "id": "8eb1f739-2ee3-4b5d-a04d-25571a42bcd2",
   "metadata": {},
   "outputs": [
    {
     "data": {
      "text/plain": [
       "['２４日',\n",
       " '新型コロナウイルスのオミクロン変異株流行による来年の世界経済への打撃はさほど大きくないとの投資家の見方から世界株ファンドに大量の資金が流入している１２月２４日新型コロナウイルスのオミクロン変異株流行による来年の世界経済への打撃はさほど大きくないとの投資家の見方から世界株ファンドに大量の資金が流入しているニューヨーク証券取引所で７月撮影２０２１年',\n",
       " 'kellyリフィニティブのデータによると２２日までの週に世界株ファンドは３３０億ドルの資金流入前週の１３１億ドルの資金流出から大幅な流入に転じた米国株ファンドは２７５億ドルの流入アジア株ファンドは１８億ドルの流入一方欧州株ファンドは１５億ドルの流出だったこの週は世界的に株価が力強く回復した好調な企業決算に加え米モデルナ製新型コロナワクチンのブースター接種追加接種がオミクロン株の感染予防効果があるとの臨床試験結果が支援材料となった世界債券ファンドには５４億ドルが流入前週の流出から流入に転じたマネーマーケットファンドｍｍｆからは３２億ドルが流出しリスク選好の回復が鮮明になった商品ファンドでは貴金属ファンドが５億７８００万ドルの流出超流出は３週連続となった新興国市場ファンド２万４０７０本の分析では債券ファンドが８９００万ドルの流出株式ファンドは１８億ドルの流出だった',\n",
       " 'ロイター',\n",
       " 'アングル世界株ファンドに資金流入来年に向けリスク選好回復',\n",
       " 'ロイターandrew']"
      ]
     },
     "execution_count": 13,
     "metadata": {},
     "output_type": "execute_result"
    }
   ],
   "source": [
    "article.keywords"
   ]
  },
  {
   "cell_type": "code",
   "execution_count": 14,
   "id": "7a8e3cae-2d08-40a2-b3d4-a4f917e02cca",
   "metadata": {},
   "outputs": [
    {
     "data": {
      "text/plain": [
       "'［２４日 ロイター］ - 新型コロナウイルスのオミクロン変異株流行による来年の世界経済への打撃はさほど大きくないとの投資家の見方から、世界株ファンドに大量の資金が流入している。１２月２４日、新型コロナウイルスのオミクロン変異株流行による来年の世界経済への打撃はさほど大きくないとの投資家の見方から、世界株ファンドに大量の資金が流入している。ニューヨーク証券取引所で７月撮影（２０２１年 ロイター/Andrew Kelly）リフィニティブのデータによると、２２日までの週に世界株ファンドは３３０億ドルの資金流入。前週の１３１億ドルの資金流出から大幅な流入に転じた。米国株ファンドは２７５億ドルの流入、アジア株ファンドは１８億ドルの流入。一方、欧州株ファンドは１５億ドルの流出だった。この週は世界的に株価が力強く回復した。好調な企業決算に加え、米モデルナ製新型コロナワクチンのブースター接種（追加接種）がオミクロン株の感染予防効果があるとの臨床試験結果が支援材料となった。世界債券ファンドには５４億ドルが流入。前週の流出から流入に転じた。マネー・マーケット・ファンド（ＭＭＦ）からは３２億ドルが流出し、リスク選好の回復が鮮明になった。商品ファンドでは、貴金属ファンドが５億７８００万ドルの流出超。流出は３週連続となった。新興国市場ファンド２万４０７０本の分析では、債券ファンドが８９００万ドルの流出、株式ファンドは１８億ドルの流出だった。'"
      ]
     },
     "execution_count": 14,
     "metadata": {},
     "output_type": "execute_result"
    }
   ],
   "source": [
    "article.summary"
   ]
  },
  {
   "cell_type": "markdown",
   "id": "d2595c65-3597-4b9b-a958-d3b28ce3230b",
   "metadata": {},
   "source": [
    "**改行文字を取り除く**"
   ]
  },
  {
   "cell_type": "code",
   "execution_count": 16,
   "id": "3e120a1a-472b-4022-b24d-1b5ece3eae7d",
   "metadata": {},
   "outputs": [
    {
     "data": {
      "text/plain": [
       "'［２４日 ロイター］ - 新型コロナウイルスのオミクロン変異株流行による来年の世界経済への打撃はさほど大きくないとの投資家の見方から、世界株ファンドに大量の資金が流入している。１２月２４日、新型コロナウイルスのオミクロン変異株流行による来年の世界経済への打撃はさほど大きくないとの投資家の見方から、世界株ファンドに大量の資金が流入している。ニューヨーク証券取引所で７月撮影（２０２１年 ロイター/Andrew Kelly）リフィニティブのデータによると、２２日までの週に世界株ファンドは３３０億ドルの資金流入。前週の１３１億ドルの資金流出から大幅な流入に転じた。米国株ファンドは２７５億ドルの流入、アジア株ファンドは１８億ドルの流入。一方、欧州株ファンドは１５億ドルの流出だった。この週は世界的に株価が力強く回復した。好調な企業決算に加え、米モデルナ製新型コロナワクチンのブースター接種（追加接種）がオミクロン株の感染予防効果があるとの臨床試験結果が支援材料となった。世界債券ファンドには５４億ドルが流入。前週の流出から流入に転じた。マネー・マーケット・ファンド（ＭＭＦ）からは３２億ドルが流出し、リスク選好の回復が鮮明になった。商品ファンドでは、貴金属ファンドが５億７８００万ドルの流出超。流出は３週連続となった。新興国市場ファンド２万４０７０本の分析では、債券ファンドが８９００万ドルの流出、株式ファンドは１８億ドルの流出だった。'"
      ]
     },
     "execution_count": 16,
     "metadata": {},
     "output_type": "execute_result"
    }
   ],
   "source": [
    "article.summary.replace(\"\\n\",\"\")"
   ]
  }
 ],
 "metadata": {
  "kernelspec": {
   "display_name": "Python 3 (ipykernel)",
   "language": "python",
   "name": "python3"
  },
  "language_info": {
   "codemirror_mode": {
    "name": "ipython",
    "version": 3
   },
   "file_extension": ".py",
   "mimetype": "text/x-python",
   "name": "python",
   "nbconvert_exporter": "python",
   "pygments_lexer": "ipython3",
   "version": "3.9.7"
  }
 },
 "nbformat": 4,
 "nbformat_minor": 5
}
