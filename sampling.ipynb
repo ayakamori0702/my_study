{
 "cells": [
  {
   "cell_type": "code",
   "execution_count": 23,
   "id": "2b828bfc-9550-4073-8191-1f8056fc5ea9",
   "metadata": {},
   "outputs": [],
   "source": [
    "import pandas as pd\n",
    "import numpy as np\n",
    "import random"
   ]
  },
  {
   "cell_type": "code",
   "execution_count": 24,
   "id": "ea8a2902-be34-422e-8a6f-e575dc06848d",
   "metadata": {},
   "outputs": [],
   "source": [
    "pd.options.display.precision=1"
   ]
  },
  {
   "cell_type": "code",
   "execution_count": 25,
   "id": "75a5cd2b-58a7-4aa4-9bfc-024a6e244740",
   "metadata": {},
   "outputs": [
    {
     "data": {
      "text/html": [
       "<div>\n",
       "<style scoped>\n",
       "    .dataframe tbody tr th:only-of-type {\n",
       "        vertical-align: middle;\n",
       "    }\n",
       "\n",
       "    .dataframe tbody tr th {\n",
       "        vertical-align: top;\n",
       "    }\n",
       "\n",
       "    .dataframe thead th {\n",
       "        text-align: right;\n",
       "    }\n",
       "</style>\n",
       "<table border=\"1\" class=\"dataframe\">\n",
       "  <thead>\n",
       "    <tr style=\"text-align: right;\">\n",
       "      <th></th>\n",
       "      <th>なまえ</th>\n",
       "      <th>とくてん</th>\n",
       "    </tr>\n",
       "  </thead>\n",
       "  <tbody>\n",
       "    <tr>\n",
       "      <th>0</th>\n",
       "      <td>らくだ</td>\n",
       "      <td>81</td>\n",
       "    </tr>\n",
       "    <tr>\n",
       "      <th>1</th>\n",
       "      <td>らくだ</td>\n",
       "      <td>73</td>\n",
       "    </tr>\n",
       "    <tr>\n",
       "      <th>2</th>\n",
       "      <td>らいおん</td>\n",
       "      <td>72</td>\n",
       "    </tr>\n",
       "    <tr>\n",
       "      <th>3</th>\n",
       "      <td>らくだ</td>\n",
       "      <td>59</td>\n",
       "    </tr>\n",
       "    <tr>\n",
       "      <th>4</th>\n",
       "      <td>しまうま</td>\n",
       "      <td>62</td>\n",
       "    </tr>\n",
       "  </tbody>\n",
       "</table>\n",
       "</div>"
      ],
      "text/plain": [
       "    なまえ  とくてん\n",
       "0   らくだ    81\n",
       "1   らくだ    73\n",
       "2  らいおん    72\n",
       "3   らくだ    59\n",
       "4  しまうま    62"
      ]
     },
     "execution_count": 25,
     "metadata": {},
     "output_type": "execute_result"
    }
   ],
   "source": [
    "#サンプルデータ作成\n",
    "animals=['らくだ','らいおん','らくだ','しまうま']\n",
    "df=pd.DataFrame({'なまえ':random.choices(animals,k=10000),\n",
    "                 'とくてん':np.random.randint(55,86,10000)})\n",
    "df.head()"
   ]
  },
  {
   "cell_type": "code",
   "execution_count": 26,
   "id": "575eabfe-c57e-48e8-a57b-af1052b84c7c",
   "metadata": {},
   "outputs": [
    {
     "data": {
      "text/html": [
       "<div>\n",
       "<style scoped>\n",
       "    .dataframe tbody tr th:only-of-type {\n",
       "        vertical-align: middle;\n",
       "    }\n",
       "\n",
       "    .dataframe tbody tr th {\n",
       "        vertical-align: top;\n",
       "    }\n",
       "\n",
       "    .dataframe thead th {\n",
       "        text-align: right;\n",
       "    }\n",
       "</style>\n",
       "<table border=\"1\" class=\"dataframe\">\n",
       "  <thead>\n",
       "    <tr style=\"text-align: right;\">\n",
       "      <th></th>\n",
       "      <th>なまえ</th>\n",
       "      <th>データの数</th>\n",
       "      <th>割合</th>\n",
       "    </tr>\n",
       "  </thead>\n",
       "  <tbody>\n",
       "    <tr>\n",
       "      <th>0</th>\n",
       "      <td>しまうま</td>\n",
       "      <td>2490</td>\n",
       "      <td>0.2</td>\n",
       "    </tr>\n",
       "    <tr>\n",
       "      <th>1</th>\n",
       "      <td>らいおん</td>\n",
       "      <td>2491</td>\n",
       "      <td>0.2</td>\n",
       "    </tr>\n",
       "    <tr>\n",
       "      <th>2</th>\n",
       "      <td>らくだ</td>\n",
       "      <td>5019</td>\n",
       "      <td>0.5</td>\n",
       "    </tr>\n",
       "  </tbody>\n",
       "</table>\n",
       "</div>"
      ],
      "text/plain": [
       "    なまえ  データの数   割合\n",
       "0  しまうま   2490  0.2\n",
       "1  らいおん   2491  0.2\n",
       "2   らくだ   5019  0.5"
      ]
     },
     "execution_count": 26,
     "metadata": {},
     "output_type": "execute_result"
    }
   ],
   "source": [
    "#どうぶつたちの比率\n",
    "df_summary=df.groupby('なまえ').agg({'とくてん':'count'}).reset_index().rename(columns={'とくてん':'データの数'})\n",
    "df_summary['割合']=df_summary['データの数']/df_summary['データの数'].sum()\n",
    "df_summary"
   ]
  },
  {
   "cell_type": "markdown",
   "id": "14ae9db1-530f-45e6-bf87-51431c28aa65",
   "metadata": {},
   "source": [
    "**単純無作為抽出**"
   ]
  },
  {
   "cell_type": "code",
   "execution_count": 37,
   "id": "89adb36f-089a-4bf0-9bf9-b2a65d523f9d",
   "metadata": {},
   "outputs": [
    {
     "data": {
      "text/html": [
       "<div>\n",
       "<style scoped>\n",
       "    .dataframe tbody tr th:only-of-type {\n",
       "        vertical-align: middle;\n",
       "    }\n",
       "\n",
       "    .dataframe tbody tr th {\n",
       "        vertical-align: top;\n",
       "    }\n",
       "\n",
       "    .dataframe thead th {\n",
       "        text-align: right;\n",
       "    }\n",
       "</style>\n",
       "<table border=\"1\" class=\"dataframe\">\n",
       "  <thead>\n",
       "    <tr style=\"text-align: right;\">\n",
       "      <th></th>\n",
       "      <th>なまえ</th>\n",
       "      <th>とくてん</th>\n",
       "    </tr>\n",
       "  </thead>\n",
       "  <tbody>\n",
       "    <tr>\n",
       "      <th>6066</th>\n",
       "      <td>らいおん</td>\n",
       "      <td>78</td>\n",
       "    </tr>\n",
       "    <tr>\n",
       "      <th>4143</th>\n",
       "      <td>らくだ</td>\n",
       "      <td>62</td>\n",
       "    </tr>\n",
       "    <tr>\n",
       "      <th>4701</th>\n",
       "      <td>らくだ</td>\n",
       "      <td>55</td>\n",
       "    </tr>\n",
       "    <tr>\n",
       "      <th>5904</th>\n",
       "      <td>らくだ</td>\n",
       "      <td>68</td>\n",
       "    </tr>\n",
       "    <tr>\n",
       "      <th>4335</th>\n",
       "      <td>らくだ</td>\n",
       "      <td>67</td>\n",
       "    </tr>\n",
       "  </tbody>\n",
       "</table>\n",
       "</div>"
      ],
      "text/plain": [
       "       なまえ  とくてん\n",
       "6066  らいおん    78\n",
       "4143   らくだ    62\n",
       "4701   らくだ    55\n",
       "5904   らくだ    68\n",
       "4335   らくだ    67"
      ]
     },
     "execution_count": 37,
     "metadata": {},
     "output_type": "execute_result"
    }
   ],
   "source": [
    "df_01=df.sample(frac=0.01)\n",
    "df_01.head()"
   ]
  },
  {
   "cell_type": "code",
   "execution_count": 38,
   "id": "947919a4-85c8-46e8-ab47-91b946e7f47c",
   "metadata": {},
   "outputs": [
    {
     "data": {
      "text/plain": [
       "100"
      ]
     },
     "execution_count": 38,
     "metadata": {},
     "output_type": "execute_result"
    }
   ],
   "source": [
    "len(df_01)"
   ]
  },
  {
   "cell_type": "code",
   "execution_count": 39,
   "id": "019b1077-d99b-4160-8ada-cbbcf498ef7f",
   "metadata": {},
   "outputs": [
    {
     "data": {
      "text/html": [
       "<div>\n",
       "<style scoped>\n",
       "    .dataframe tbody tr th:only-of-type {\n",
       "        vertical-align: middle;\n",
       "    }\n",
       "\n",
       "    .dataframe tbody tr th {\n",
       "        vertical-align: top;\n",
       "    }\n",
       "\n",
       "    .dataframe thead th {\n",
       "        text-align: right;\n",
       "    }\n",
       "</style>\n",
       "<table border=\"1\" class=\"dataframe\">\n",
       "  <thead>\n",
       "    <tr style=\"text-align: right;\">\n",
       "      <th></th>\n",
       "      <th>なまえ</th>\n",
       "      <th>データの数</th>\n",
       "      <th>割合</th>\n",
       "    </tr>\n",
       "  </thead>\n",
       "  <tbody>\n",
       "    <tr>\n",
       "      <th>0</th>\n",
       "      <td>しまうま</td>\n",
       "      <td>2490</td>\n",
       "      <td>0.2</td>\n",
       "    </tr>\n",
       "    <tr>\n",
       "      <th>1</th>\n",
       "      <td>らいおん</td>\n",
       "      <td>2491</td>\n",
       "      <td>0.2</td>\n",
       "    </tr>\n",
       "    <tr>\n",
       "      <th>2</th>\n",
       "      <td>らくだ</td>\n",
       "      <td>5019</td>\n",
       "      <td>0.5</td>\n",
       "    </tr>\n",
       "  </tbody>\n",
       "</table>\n",
       "</div>"
      ],
      "text/plain": [
       "    なまえ  データの数   割合\n",
       "0  しまうま   2490  0.2\n",
       "1  らいおん   2491  0.2\n",
       "2   らくだ   5019  0.5"
      ]
     },
     "execution_count": 39,
     "metadata": {},
     "output_type": "execute_result"
    }
   ],
   "source": [
    "#どうぶつたちの比率\n",
    "df_01_summary=df.groupby('なまえ').agg({'とくてん':'count'}).reset_index().rename(columns={'とくてん':'データの数'})\n",
    "df_01_summary['割合']=df_01_summary['データの数']/df_01_summary['データの数'].sum()\n",
    "df_01_summary"
   ]
  },
  {
   "cell_type": "markdown",
   "id": "a675a1dc-952e-4a1b-820b-5eaac74bc133",
   "metadata": {},
   "source": [
    "**層化抽出・比例配分法**"
   ]
  },
  {
   "cell_type": "code",
   "execution_count": 12,
   "id": "0f53511a-34e3-4f4f-8ac4-1ebdff950822",
   "metadata": {},
   "outputs": [
    {
     "data": {
      "text/html": [
       "<div>\n",
       "<style scoped>\n",
       "    .dataframe tbody tr th:only-of-type {\n",
       "        vertical-align: middle;\n",
       "    }\n",
       "\n",
       "    .dataframe tbody tr th {\n",
       "        vertical-align: top;\n",
       "    }\n",
       "\n",
       "    .dataframe thead th {\n",
       "        text-align: right;\n",
       "    }\n",
       "</style>\n",
       "<table border=\"1\" class=\"dataframe\">\n",
       "  <thead>\n",
       "    <tr style=\"text-align: right;\">\n",
       "      <th></th>\n",
       "      <th>なまえ</th>\n",
       "      <th>とくてん</th>\n",
       "    </tr>\n",
       "  </thead>\n",
       "  <tbody>\n",
       "    <tr>\n",
       "      <th>2426</th>\n",
       "      <td>しまうま</td>\n",
       "      <td>84</td>\n",
       "    </tr>\n",
       "    <tr>\n",
       "      <th>8263</th>\n",
       "      <td>しまうま</td>\n",
       "      <td>85</td>\n",
       "    </tr>\n",
       "    <tr>\n",
       "      <th>9863</th>\n",
       "      <td>らくだ</td>\n",
       "      <td>58</td>\n",
       "    </tr>\n",
       "    <tr>\n",
       "      <th>4859</th>\n",
       "      <td>らいおん</td>\n",
       "      <td>62</td>\n",
       "    </tr>\n",
       "    <tr>\n",
       "      <th>5845</th>\n",
       "      <td>らいおん</td>\n",
       "      <td>61</td>\n",
       "    </tr>\n",
       "  </tbody>\n",
       "</table>\n",
       "</div>"
      ],
      "text/plain": [
       "       なまえ  とくてん\n",
       "2426  しまうま    84\n",
       "8263  しまうま    85\n",
       "9863   らくだ    58\n",
       "4859  らいおん    62\n",
       "5845  らいおん    61"
      ]
     },
     "execution_count": 12,
     "metadata": {},
     "output_type": "execute_result"
    }
   ],
   "source": [
    "from sklearn.model_selection import train_test_split\n",
    "\n",
    "_,df_02=train_test_split(df,test_size=0.01,stratify=df['なまえ'])\n",
    "df_02.head()"
   ]
  },
  {
   "cell_type": "code",
   "execution_count": 13,
   "id": "54f36ed4-296b-42e9-bd60-8f31ab7918d2",
   "metadata": {},
   "outputs": [
    {
     "data": {
      "text/plain": [
       "100"
      ]
     },
     "execution_count": 13,
     "metadata": {},
     "output_type": "execute_result"
    }
   ],
   "source": [
    "len(df_02)"
   ]
  },
  {
   "cell_type": "code",
   "execution_count": 36,
   "id": "0a5c4d8d-e379-467b-ac8f-c650b212cc2b",
   "metadata": {},
   "outputs": [
    {
     "data": {
      "text/html": [
       "<div>\n",
       "<style scoped>\n",
       "    .dataframe tbody tr th:only-of-type {\n",
       "        vertical-align: middle;\n",
       "    }\n",
       "\n",
       "    .dataframe tbody tr th {\n",
       "        vertical-align: top;\n",
       "    }\n",
       "\n",
       "    .dataframe thead th {\n",
       "        text-align: right;\n",
       "    }\n",
       "</style>\n",
       "<table border=\"1\" class=\"dataframe\">\n",
       "  <thead>\n",
       "    <tr style=\"text-align: right;\">\n",
       "      <th></th>\n",
       "      <th>なまえ</th>\n",
       "      <th>データの数</th>\n",
       "      <th>割合</th>\n",
       "    </tr>\n",
       "  </thead>\n",
       "  <tbody>\n",
       "    <tr>\n",
       "      <th>0</th>\n",
       "      <td>しまうま</td>\n",
       "      <td>2490</td>\n",
       "      <td>0.2</td>\n",
       "    </tr>\n",
       "    <tr>\n",
       "      <th>1</th>\n",
       "      <td>らいおん</td>\n",
       "      <td>2491</td>\n",
       "      <td>0.2</td>\n",
       "    </tr>\n",
       "    <tr>\n",
       "      <th>2</th>\n",
       "      <td>らくだ</td>\n",
       "      <td>5019</td>\n",
       "      <td>0.5</td>\n",
       "    </tr>\n",
       "  </tbody>\n",
       "</table>\n",
       "</div>"
      ],
      "text/plain": [
       "    なまえ  データの数   割合\n",
       "0  しまうま   2490  0.2\n",
       "1  らいおん   2491  0.2\n",
       "2   らくだ   5019  0.5"
      ]
     },
     "execution_count": 36,
     "metadata": {},
     "output_type": "execute_result"
    }
   ],
   "source": [
    "#どうぶつたちの比率\n",
    "df_02_summary=df.groupby('なまえ').agg({'とくてん':'count'}).reset_index().rename(columns={'とくてん':'データの数'})\n",
    "df_02_summary['割合']=df_01_summary['データの数']/df_01_summary['データの数'].sum()\n",
    "df_02_summary"
   ]
  },
  {
   "cell_type": "code",
   "execution_count": null,
   "id": "4a8b09ab-91f2-4c6e-9252-6aeaf5ba4807",
   "metadata": {},
   "outputs": [],
   "source": []
  }
 ],
 "metadata": {
  "kernelspec": {
   "display_name": "Python 3 (ipykernel)",
   "language": "python",
   "name": "python3"
  },
  "language_info": {
   "codemirror_mode": {
    "name": "ipython",
    "version": 3
   },
   "file_extension": ".py",
   "mimetype": "text/x-python",
   "name": "python",
   "nbconvert_exporter": "python",
   "pygments_lexer": "ipython3",
   "version": "3.9.7"
  }
 },
 "nbformat": 4,
 "nbformat_minor": 5
}
