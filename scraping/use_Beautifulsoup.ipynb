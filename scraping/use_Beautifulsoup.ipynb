{
 "cells": [
  {
   "cell_type": "code",
   "execution_count": 4,
   "id": "e90912a4-af90-47ab-a491-2cf9e05270d3",
   "metadata": {},
   "outputs": [],
   "source": [
    "from bs4 import BeautifulSoup"
   ]
  },
  {
   "cell_type": "code",
   "execution_count": 5,
   "id": "2141f5bf-1b28-415c-9d24-074587b030b3",
   "metadata": {},
   "outputs": [],
   "source": [
    "html = \"\"\"\n",
    "<html>\n",
    "    <head>\n",
    "        <title>清水義孝の著書</title>\n",
    "    </head>\n",
    "    <body>\n",
    "        <p class=\"title\">\n",
    "            <b>清水義孝の最新の著書には、次の本があります。</b>\n",
    "        </p>\n",
    "        <p class=\"recent books\">\n",
    "            <a class=\"book\" href=\"https://www.amazon.co.jp/dp/B07TN4D3HG\" id=\"link1\">Python3によるビジネスに役立つデータ分析入門</a>、\n",
    "            <a class=\"book\" href=\"http://www.amazon.co.jp/dp/B07SRLRS4M\" id=\"link2\">よくわかるPython3入門2.NumPy・Matplotlib編</a>、\n",
    "            <a class=\"book\" href=\"http://www.amazon.co.jp/dp/B07T9SZ96B\" id=\"link3\">よくわかるPython3入門4.Pandasでデータ分析編</a>\n",
    "        </p>\n",
    "        <p class=\"end\">\n",
    "            <b>そして、これらの本は好評発売中です。</b>\n",
    "        </p>\n",
    "    </body>\n",
    "</html>\n",
    "\"\"\""
   ]
  },
  {
   "cell_type": "code",
   "execution_count": 8,
   "id": "360a7168-360e-4a1e-9e6c-c295083285ba",
   "metadata": {},
   "outputs": [
    {
     "name": "stdout",
     "output_type": "stream",
     "text": [
      "<bound method Tag.prettify of \n",
      "<html>\n",
      "<head>\n",
      "<title>清水義孝の著書</title>\n",
      "</head>\n",
      "<body>\n",
      "<p class=\"title\">\n",
      "<b>清水義孝の最新の著書には、次の本があります。</b>\n",
      "</p>\n",
      "<p class=\"recent books\">\n",
      "<a class=\"book\" href=\"https://www.amazon.co.jp/dp/B07TN4D3HG\" id=\"link1\">Python3によるビジネスに役立つデータ分析入門</a>、\n",
      "            <a class=\"book\" href=\"http://www.amazon.co.jp/dp/B07SRLRS4M\" id=\"link2\">よくわかるPython3入門2.NumPy・Matplotlib編</a>、\n",
      "            <a class=\"book\" href=\"http://www.amazon.co.jp/dp/B07T9SZ96B\" id=\"link3\">よくわかるPython3入門4.Pandasでデータ分析編</a>\n",
      "</p>\n",
      "<p class=\"end\">\n",
      "<b>そして、これらの本は好評発売中です。</b>\n",
      "</p>\n",
      "</body>\n",
      "</html>\n",
      ">\n"
     ]
    }
   ],
   "source": [
    "soup = BeautifulSoup(html, \"html.parser\")\n",
    "print(soup.prettify)"
   ]
  },
  {
   "cell_type": "markdown",
   "id": "dd4bb5ef-d97a-401d-a53e-a883d778c022",
   "metadata": {},
   "source": [
    "### HTMLの階層を移動して、HTMLタグの該当する箇所の抽出を行う"
   ]
  },
  {
   "cell_type": "markdown",
   "id": "4e6686c8-723b-4d0e-b176-72742cb410d0",
   "metadata": {},
   "source": [
    "**titleの抽出**"
   ]
  },
  {
   "cell_type": "code",
   "execution_count": 18,
   "id": "457102fa-cd1f-4c5f-bdd2-2c3e971b0ad1",
   "metadata": {},
   "outputs": [
    {
     "name": "stdout",
     "output_type": "stream",
     "text": [
      "清水義孝の著書\n"
     ]
    }
   ],
   "source": [
    "print(soup.title.string)  # 文字のみ抽出"
   ]
  },
  {
   "cell_type": "code",
   "execution_count": 19,
   "id": "8091d9f4-7440-4d19-a2a1-8c85f1c40d25",
   "metadata": {},
   "outputs": [
    {
     "name": "stdout",
     "output_type": "stream",
     "text": [
      "title\n"
     ]
    }
   ],
   "source": [
    "print(soup.title.name)  # object"
   ]
  },
  {
   "cell_type": "code",
   "execution_count": 20,
   "id": "ed8ae62f-fe4a-4c67-a7a2-697710168a33",
   "metadata": {},
   "outputs": [
    {
     "name": "stdout",
     "output_type": "stream",
     "text": [
      "<class 'bs4.element.Tag'>\n"
     ]
    }
   ],
   "source": [
    "print(type(soup.title)) #tab object"
   ]
  },
  {
   "cell_type": "markdown",
   "id": "978a8790-1e05-4d95-98d8-163f7f0c2367",
   "metadata": {},
   "source": [
    "**p要素の抽出**"
   ]
  },
  {
   "cell_type": "code",
   "execution_count": 21,
   "id": "94dbd853-c4e5-477c-96ae-5846f645a7d8",
   "metadata": {},
   "outputs": [
    {
     "name": "stdout",
     "output_type": "stream",
     "text": [
      "<p class=\"title\">\n",
      "<b>清水義孝の最新の著書には、次の本があります。</b>\n",
      "</p>\n"
     ]
    }
   ],
   "source": [
    "print(soup.body.p)  # body配下の１番目のp要素"
   ]
  },
  {
   "cell_type": "code",
   "execution_count": 22,
   "id": "96cbe42a-04e5-474c-9bbc-374208492a44",
   "metadata": {},
   "outputs": [
    {
     "name": "stdout",
     "output_type": "stream",
     "text": [
      "<p class=\"recent books\">\n",
      "<a class=\"book\" href=\"https://www.amazon.co.jp/dp/B07TN4D3HG\" id=\"link1\">Python3によるビジネスに役立つデータ分析入門</a>、\n",
      "            <a class=\"book\" href=\"http://www.amazon.co.jp/dp/B07SRLRS4M\" id=\"link2\">よくわかるPython3入門2.NumPy・Matplotlib編</a>、\n",
      "            <a class=\"book\" href=\"http://www.amazon.co.jp/dp/B07T9SZ96B\" id=\"link3\">よくわかるPython3入門4.Pandasでデータ分析編</a>\n",
      "</p>\n"
     ]
    }
   ],
   "source": [
    "print(soup.body.p.next_sibling.next_sibling)  # body配下の2番目のp要素"
   ]
  },
  {
   "cell_type": "markdown",
   "id": "5bbba762-e4f7-462b-820f-18751729e6b8",
   "metadata": {},
   "source": [
    "**a要素の抽出**"
   ]
  },
  {
   "cell_type": "code",
   "execution_count": 30,
   "id": "8a9c719d-1977-4ae3-b61d-f8ec7515d0c8",
   "metadata": {},
   "outputs": [
    {
     "name": "stdout",
     "output_type": "stream",
     "text": [
      "<a class=\"book\" href=\"https://www.amazon.co.jp/dp/B07TN4D3HG\" id=\"link1\">Python3によるビジネスに役立つデータ分析入門</a>\n"
     ]
    }
   ],
   "source": [
    "print(soup.body.p.next_sibling.next_sibling.a) "
   ]
  },
  {
   "cell_type": "code",
   "execution_count": 31,
   "id": "1eac18df-d6d6-4654-b701-3dd8cd7f5b3a",
   "metadata": {},
   "outputs": [
    {
     "name": "stdout",
     "output_type": "stream",
     "text": [
      "https://www.amazon.co.jp/dp/B07TN4D3HG\n"
     ]
    }
   ],
   "source": [
    "print(soup.body.p.next_sibling.next_sibling.a[\"href\"])  # url"
   ]
  },
  {
   "cell_type": "markdown",
   "id": "f832aa7f-1084-46aa-89ad-0da6f57fcfdb",
   "metadata": {
    "tags": []
   },
   "source": [
    "### find, dind_allメソッドを用いて、HTMLタグの該当する箇所の抽出を行う"
   ]
  },
  {
   "cell_type": "markdown",
   "id": "3c3d7107-7ea2-42e6-bf15-5e09c7ffcace",
   "metadata": {},
   "source": [
    "**a要素の抽出のURLと本の名前を取得する**"
   ]
  },
  {
   "cell_type": "code",
   "execution_count": 32,
   "id": "57198d8d-9ba6-440e-93f6-9b74257f9ceb",
   "metadata": {},
   "outputs": [
    {
     "name": "stdout",
     "output_type": "stream",
     "text": [
      "[<a class=\"book\" href=\"https://www.amazon.co.jp/dp/B07TN4D3HG\" id=\"link1\">Python3によるビジネスに役立つデータ分析入門</a>, <a class=\"book\" href=\"http://www.amazon.co.jp/dp/B07SRLRS4M\" id=\"link2\">よくわかるPython3入門2.NumPy・Matplotlib編</a>, <a class=\"book\" href=\"http://www.amazon.co.jp/dp/B07T9SZ96B\" id=\"link3\">よくわかるPython3入門4.Pandasでデータ分析編</a>]\n"
     ]
    }
   ],
   "source": [
    "print(soup.find_all(\"a\"))"
   ]
  },
  {
   "cell_type": "code",
   "execution_count": 33,
   "id": "aa26b858-1953-406b-a0f2-e69978ed0c3a",
   "metadata": {},
   "outputs": [
    {
     "name": "stdout",
     "output_type": "stream",
     "text": [
      "Python3によるビジネスに役立つデータ分析入門\n",
      "<a class=\"book\" href=\"https://www.amazon.co.jp/dp/B07TN4D3HG\" id=\"link1\">Python3によるビジネスに役立つデータ分析入門</a>\n",
      "\n",
      "よくわかるPython3入門2.NumPy・Matplotlib編\n",
      "<a class=\"book\" href=\"http://www.amazon.co.jp/dp/B07SRLRS4M\" id=\"link2\">よくわかるPython3入門2.NumPy・Matplotlib編</a>\n",
      "\n",
      "よくわかるPython3入門4.Pandasでデータ分析編\n",
      "<a class=\"book\" href=\"http://www.amazon.co.jp/dp/B07T9SZ96B\" id=\"link3\">よくわかるPython3入門4.Pandasでデータ分析編</a>\n",
      "\n"
     ]
    }
   ],
   "source": [
    "for tag_a in soup.find_all(\"a\"):\n",
    "    print(tag_a.string)\n",
    "    print(tag_a,end = \"\\n\\n\")"
   ]
  },
  {
   "cell_type": "markdown",
   "id": "7ea67f66-5c2f-46ef-b54f-1d078d680187",
   "metadata": {
    "tags": []
   },
   "source": [
    "### selectメソッドを用いて、HTMLタグの該当する箇所の抽出を行う"
   ]
  },
  {
   "cell_type": "markdown",
   "id": "92e50177-bf15-43cf-8525-00eeca099906",
   "metadata": {},
   "source": [
    "**最後のｂ要素を取得する**"
   ]
  },
  {
   "cell_type": "code",
   "execution_count": 35,
   "id": "1803077b-7a61-4635-93ca-12236602418c",
   "metadata": {},
   "outputs": [
    {
     "name": "stdout",
     "output_type": "stream",
     "text": [
      "[<b>そして、これらの本は好評発売中です。</b>]\n"
     ]
    }
   ],
   "source": [
    "print(soup.select(\".end > b:nth-child(1)\"))"
   ]
  },
  {
   "cell_type": "code",
   "execution_count": 36,
   "id": "783b371d-7d8e-40e1-baef-7d54eb9a07b7",
   "metadata": {},
   "outputs": [
    {
     "name": "stdout",
     "output_type": "stream",
     "text": [
      "そして、これらの本は好評発売中です。\n"
     ]
    }
   ],
   "source": [
    "print(soup.select(\".end > b:nth-child(1)\")[0].string)"
   ]
  },
  {
   "cell_type": "code",
   "execution_count": null,
   "id": "686c5f28-40ad-4c2e-8d5f-975b10dbf32f",
   "metadata": {},
   "outputs": [],
   "source": []
  }
 ],
 "metadata": {
  "kernelspec": {
   "display_name": "Python 3 (ipykernel)",
   "language": "python",
   "name": "python3"
  },
  "language_info": {
   "codemirror_mode": {
    "name": "ipython",
    "version": 3
   },
   "file_extension": ".py",
   "mimetype": "text/x-python",
   "name": "python",
   "nbconvert_exporter": "python",
   "pygments_lexer": "ipython3",
   "version": "3.9.7"
  }
 },
 "nbformat": 4,
 "nbformat_minor": 5
}
